{
  "nbformat": 4,
  "nbformat_minor": 0,
  "metadata": {
    "colab": {
      "provenance": []
    },
    "kernelspec": {
      "name": "python3",
      "display_name": "Python 3"
    },
    "accelerator": "GPU"
  },
  "cells": [
    {
      "cell_type": "code",
      "source": [
        "!nvcc --version"
      ],
      "metadata": {
        "id": "sgv8YaZi3iaa",
        "outputId": "328e206f-3364-4aed-c0db-19e7a9364012",
        "colab": {
          "base_uri": "https://localhost:8080/"
        }
      },
      "execution_count": 2,
      "outputs": [
        {
          "output_type": "stream",
          "name": "stdout",
          "text": [
            "nvcc: NVIDIA (R) Cuda compiler driver\n",
            "Copyright (c) 2005-2023 NVIDIA Corporation\n",
            "Built on Tue_Aug_15_22:02:13_PDT_2023\n",
            "Cuda compilation tools, release 12.2, V12.2.140\n",
            "Build cuda_12.2.r12.2/compiler.33191640_0\n"
          ]
        }
      ]
    },
    {
      "cell_type": "code",
      "source": [
        "!nvidia-smi"
      ],
      "metadata": {
        "id": "ft-3sYQR3i2w",
        "outputId": "0fbd300b-549f-46fa-ece2-1e75fdebfbb8",
        "colab": {
          "base_uri": "https://localhost:8080/"
        }
      },
      "execution_count": 3,
      "outputs": [
        {
          "output_type": "stream",
          "name": "stdout",
          "text": [
            "Thu Apr 25 21:33:36 2024       \n",
            "+---------------------------------------------------------------------------------------+\n",
            "| NVIDIA-SMI 535.104.05             Driver Version: 535.104.05   CUDA Version: 12.2     |\n",
            "|-----------------------------------------+----------------------+----------------------+\n",
            "| GPU  Name                 Persistence-M | Bus-Id        Disp.A | Volatile Uncorr. ECC |\n",
            "| Fan  Temp   Perf          Pwr:Usage/Cap |         Memory-Usage | GPU-Util  Compute M. |\n",
            "|                                         |                      |               MIG M. |\n",
            "|=========================================+======================+======================|\n",
            "|   0  Tesla T4                       Off | 00000000:00:04.0 Off |                    0 |\n",
            "| N/A   44C    P8               9W /  70W |      0MiB / 15360MiB |      0%      Default |\n",
            "|                                         |                      |                  N/A |\n",
            "+-----------------------------------------+----------------------+----------------------+\n",
            "                                                                                         \n",
            "+---------------------------------------------------------------------------------------+\n",
            "| Processes:                                                                            |\n",
            "|  GPU   GI   CI        PID   Type   Process name                            GPU Memory |\n",
            "|        ID   ID                                                             Usage      |\n",
            "|=======================================================================================|\n",
            "|  No running processes found                                                           |\n",
            "+---------------------------------------------------------------------------------------+\n"
          ]
        }
      ]
    },
    {
      "cell_type": "code",
      "source": [
        "!pip install git+https://github.com/andreinechaev/nvcc4jupyter.git\n",
        "''' nvcc4jupyter is a Jupyter Notebook plugin that provides cell and line magics to allow running CUDA C++ code from a notebook.\n",
        "This is especially useful when combined with a hosted service such a Google's Colab which provide CUDA capable GPUs and you can start learning\n",
        "CUDA C++ without having to install anything or even to own a GPU yourself.'''"
      ],
      "metadata": {
        "id": "QuEjLMTILwia",
        "outputId": "12877b1b-dc9c-4b94-9f5f-1acf35b10f2a",
        "colab": {
          "base_uri": "https://localhost:8080/",
          "height": 346
        }
      },
      "execution_count": 5,
      "outputs": [
        {
          "output_type": "stream",
          "name": "stdout",
          "text": [
            "Collecting git+https://github.com/andreinechaev/nvcc4jupyter.git\n",
            "  Cloning https://github.com/andreinechaev/nvcc4jupyter.git to /tmp/pip-req-build-orw1zmjb\n",
            "  Running command git clone --filter=blob:none --quiet https://github.com/andreinechaev/nvcc4jupyter.git /tmp/pip-req-build-orw1zmjb\n",
            "  Resolved https://github.com/andreinechaev/nvcc4jupyter.git to commit 5741c522547756ac4bb7a16df32106a15efb8a57\n",
            "  Installing build dependencies ... \u001b[?25l\u001b[?25hdone\n",
            "  Getting requirements to build wheel ... \u001b[?25l\u001b[?25hdone\n",
            "  Preparing metadata (pyproject.toml) ... \u001b[?25l\u001b[?25hdone\n",
            "Building wheels for collected packages: nvcc4jupyter\n",
            "  Building wheel for nvcc4jupyter (pyproject.toml) ... \u001b[?25l\u001b[?25hdone\n",
            "  Created wheel for nvcc4jupyter: filename=nvcc4jupyter-1.2.1-py3-none-any.whl size=10741 sha256=1c43b610d84440f376c57bb0b3d20f87e2433fdb6f06eb98d5fd7c81c461a971\n",
            "  Stored in directory: /tmp/pip-ephem-wheel-cache-7836u9k4/wheels/a8/b9/18/23f8ef71ceb0f63297dd1903aedd067e6243a68ea756d6feea\n",
            "Successfully built nvcc4jupyter\n",
            "Installing collected packages: nvcc4jupyter\n",
            "Successfully installed nvcc4jupyter-1.2.1\n"
          ]
        },
        {
          "output_type": "execute_result",
          "data": {
            "text/plain": [
              "\" nvcc4jupyter is a Jupyter Notebook plugin that provides cell and line magics to allow running CUDA C++ code from a notebook.\\nThis is especially useful when combined with a hosted service such a Google's Colab which provide CUDA capable GPUs and you can start learning \\nCUDA C++ without having to install anything or even to own a GPU yourself.\""
            ],
            "application/vnd.google.colaboratory.intrinsic+json": {
              "type": "string"
            }
          },
          "metadata": {},
          "execution_count": 5
        }
      ]
    },
    {
      "cell_type": "code",
      "metadata": {
        "id": "3jMUueGDJDj_",
        "outputId": "52a53e94-b73f-4d90-c506-c05a3aaae0cc",
        "colab": {
          "base_uri": "https://localhost:8080/"
        }
      },
      "source": [
        "%load_ext nvcc_plugin"
      ],
      "execution_count": 7,
      "outputs": [
        {
          "output_type": "stream",
          "name": "stdout",
          "text": [
            "Detected platform \"Colab\". Running its setup...\n",
            "Source files will be saved in \"/tmp/tmpvlzq38o3\".\n"
          ]
        }
      ]
    },
    {
      "cell_type": "markdown",
      "source": [
        "# c++ hello world!"
      ],
      "metadata": {
        "id": "UatR6x6TrwKm"
      }
    },
    {
      "cell_type": "code",
      "metadata": {
        "id": "zjyy-1ktJOdw",
        "outputId": "c7cf0454-aea2-4a3c-f085-1fee67df3e0d",
        "colab": {
          "base_uri": "https://localhost:8080/"
        }
      },
      "source": [
        "%%cuda\n",
        "#include <iostream>\n",
        "int main() {\n",
        "    std::cout << \"Hello world\\n\";\n",
        "    return 0;\n",
        "}"
      ],
      "execution_count": 9,
      "outputs": [
        {
          "output_type": "stream",
          "name": "stdout",
          "text": [
            "Hello world\n",
            "\n"
          ]
        }
      ]
    },
    {
      "cell_type": "markdown",
      "source": [
        "# cuda hello world\n",
        "\n",
        "- `__global__`: is a indicates that the function runs on device(GPU) and is called from Host (CPU). It defines kernal code.\n",
        "- `hello_world<<<1,1>>()`: The `<<<M,T>>>` signifies the kernal launch. It needs to be called for code that has `__global__` in it. The kernel launches with a grid of `M` thread blocks. Each thread block has `T` parallel threads.\n",
        "- `cudaDeviceSynchronize()`: The cuda code launches asynchronously and host might not always wait for device to complete its execution. The cudaDeviceSyncronize waits for device to complete execution.\n",
        "\n",
        "NVIDIA compiler separates the device code and host code. Device code: hello_world is compiled with NVDIA compiler and the main function is compiled using gcc."
      ],
      "metadata": {
        "id": "upKMnFm-r0Ml"
      }
    },
    {
      "cell_type": "code",
      "source": [
        "%%cuda\n",
        "#include <stdio.h>\n",
        "#include <cuda.h>\n",
        "\n",
        "__global__ void hello_world() {\n",
        "    printf(\"Hello, World\\n\");\n",
        "}\n",
        "\n",
        "int main() {\n",
        "    hello_world<<<1,1>>>();\n",
        "    cudaDeviceSynchronize();\n",
        "    return 0;\n",
        "}"
      ],
      "metadata": {
        "colab": {
          "base_uri": "https://localhost:8080/"
        },
        "id": "muuqbcnYrkdc",
        "outputId": "9023e880-a0eb-426c-a422-bb3810d1d6b5"
      },
      "execution_count": 11,
      "outputs": [
        {
          "output_type": "stream",
          "name": "stdout",
          "text": [
            "Hello, World\n",
            "Hello, World\n",
            "\n"
          ]
        }
      ]
    },
    {
      "cell_type": "markdown",
      "source": [
        "# How indexing works?\n",
        "\n",
        "Hierarchy of threads:\n",
        "\n",
        "1. `Threads`: A single process running in one of the cuda cores. Each kernel call creates a single grid.\n",
        "2. `Blocks`: Blocks are collections of threads.\n",
        "3. `grid`: Grids are Collections of blocks.\n",
        "\n",
        "Inbuilt variables\n",
        "\n",
        "1. `threadIdx.x`: We can get index of the current thread within its block with using inbuilt variable.\n",
        "2. `blockIdx.x`: We can get index of the current block in the grid.\n",
        "3. `blockDim.x`: Number of threads in the block can be gotten with using inbuilt variable.\n",
        "4. `gridDim.x`: number of blocks in a grid\n",
        "\n",
        "consider: $2^{20}$ elements with\n",
        "BLOCKS_NUM = $2^{13} = 4096$ ,\n",
        "BLOCK_SIZE = $2^{7} = 256$\n",
        "\n",
        "![image.png](data:image/png;base64,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)"
      ],
      "metadata": {
        "id": "rRP_67e4znnM"
      }
    },
    {
      "cell_type": "markdown",
      "source": [
        "### CPU only"
      ],
      "metadata": {
        "id": "eDC7_BNfMJpi"
      }
    },
    {
      "cell_type": "code",
      "source": [
        "%%writefile vector_add_cpu.cu\n",
        "// %%cuda\n",
        "\n",
        "#include <iostream>\n",
        "#include <math.h>\n",
        "#include <chrono>\n",
        "#define N  100000000\n",
        "\n",
        "using namespace std;\n",
        "using namespace std::chrono;\n",
        "\n",
        "// __global__ indicates that function runs on GPU.\n",
        "void vector_add(float *x, float *y, float *sum, int n) {\n",
        "    for (int i = 0; i < n; i++) { //TODO how many iterations are done by this loop?\n",
        "        sum[i] = x[i] + y[i];\n",
        "    }\n",
        "}\n",
        "\n",
        "\n",
        "int main() {\n",
        "    // declaring memory in host\n",
        "    float *h_x, *h_y, *h_sum;\n",
        "\n",
        "    // allocating memory on host\n",
        "    h_x = (float *) malloc(sizeof(float) * N);\n",
        "    h_y = (float *) malloc(sizeof(float) * N);\n",
        "    h_sum = (float *) malloc(sizeof(float) * N);\n",
        "\n",
        "    // initializing h_x and h_y\n",
        "    for (int i = 0; i < N; i++) {\n",
        "        h_x[i] = 1.0f;\n",
        "        h_y[i] = 2.0f;\n",
        "    }\n",
        "\n",
        "     // Get starting timepoint\n",
        "    auto start = high_resolution_clock::now();\n",
        "\n",
        "    // do vector add on cpu\n",
        "    vector_add(h_x, h_y, h_sum, N);\n",
        "\n",
        "    // Get ending timepoint\n",
        "    auto stop = high_resolution_clock::now();\n",
        "\n",
        "    // Get duration. Substart timepoints to\n",
        "    // get duration. To cast it to proper unit\n",
        "    // use duration cast method\n",
        "    auto duration = duration_cast<microseconds>(stop - start);\n",
        "\n",
        "    cout << \"Time taken by function: \" << duration.count()/1000 << \" millisecond\" << endl;\n",
        "\n",
        "    // Check for errors (all values should be 3.0f)\n",
        "    float maxError = 0.0f;\n",
        "    for (int i = 0; i < N; i++)\n",
        "        maxError = fmax(maxError, fabs(h_sum[i] - 3.0f));\n",
        "\n",
        "    cout << \"Max error: \" << maxError << endl;\n",
        "\n",
        "\n",
        "    // deallocating memory from host\n",
        "    free(h_x);\n",
        "    free(h_y);\n",
        "    free(h_sum);\n",
        "\n",
        "    return 0;\n",
        "}"
      ],
      "metadata": {
        "colab": {
          "base_uri": "https://localhost:8080/"
        },
        "id": "6lBiTB-ZDmrh",
        "outputId": "25d12214-d929-4e9d-f49a-fdcb32b44f83"
      },
      "execution_count": 12,
      "outputs": [
        {
          "output_type": "stream",
          "name": "stdout",
          "text": [
            "Writing vector_add_cpu.cu\n"
          ]
        }
      ]
    },
    {
      "cell_type": "code",
      "source": [
        "!nvcc vector_add_cpu.cu -o vector_add_cpu.o"
      ],
      "metadata": {
        "id": "BWkiJzAfJnnQ"
      },
      "execution_count": 13,
      "outputs": []
    },
    {
      "cell_type": "code",
      "source": [
        "!./vector_add_cpu.o"
      ],
      "metadata": {
        "colab": {
          "base_uri": "https://localhost:8080/"
        },
        "id": "4ZffG7cQK8Dd",
        "outputId": "c11a15ea-9080-4eed-b8fa-35af83a9e3f7"
      },
      "execution_count": 14,
      "outputs": [
        {
          "output_type": "stream",
          "name": "stdout",
          "text": [
            "Time taken by function: 489 millisecond\n",
            "Max error: 0\n"
          ]
        }
      ]
    },
    {
      "cell_type": "markdown",
      "source": [
        "### Single Thread"
      ],
      "metadata": {
        "id": "CPXqdKFbMLrD"
      }
    },
    {
      "cell_type": "code",
      "metadata": {
        "id": "Lxidivu8JkgL",
        "colab": {
          "base_uri": "https://localhost:8080/"
        },
        "outputId": "aa0eaeb7-fe84-4670-8024-1d6947482ca7"
      },
      "source": [
        "%%writefile vector_add_single.cu\n",
        "// %%cu\n",
        "\n",
        "#include <iostream>\n",
        "#include <cuda.h>\n",
        "#include <assert.h>     /* assert */\n",
        "\n",
        "#define BLOCK_SIZE  256\n",
        "#define N  100000000\n",
        "\n",
        "using namespace std;\n",
        "\n",
        "__global__\n",
        "void vector_add_single_thread(float *x, float *y, float *sum, int n) {\n",
        "    for (int i = 0; i < n; i += 1)\n",
        "        sum[i] = x[i] + y[i]; //TODO how many iterations are done by this loop?\n",
        "\n",
        "}\n",
        "\n",
        "\n",
        "int main() {\n",
        "    // declaring memory in host\n",
        "    float *h_x, *h_y, *h_sum;\n",
        "\n",
        "    // declaring memory in device\n",
        "    float *d_x, *d_y, *d_sum;\n",
        "\n",
        "    // allocating memory on host\n",
        "    h_x = (float *) malloc(sizeof(float) * N);\n",
        "    h_y = (float *) malloc(sizeof(float) * N);\n",
        "    h_sum = (float *) malloc(sizeof(float) * N);\n",
        "\n",
        "    // initializing h_x and h_y\n",
        "    for (int i = 0; i < N; i++) {\n",
        "        h_x[i] = 1.0f;\n",
        "        h_y[i] = 2.0f;\n",
        "    }\n",
        "\n",
        "    // allocating memory on device\n",
        "    cudaMalloc((void **) &d_x, sizeof(float) * N);\n",
        "    cudaMalloc((void **) &d_y, sizeof(float) * N);\n",
        "    cudaMalloc((void **) &d_sum, sizeof(float) * N);\n",
        "\n",
        "    // transfer from device to host\n",
        "    cudaMemcpy(d_x, h_x, sizeof(float) * N, cudaMemcpyHostToDevice); // dist, src\n",
        "    cudaMemcpy(d_y, h_y, sizeof(float) * N, cudaMemcpyHostToDevice); // dist, src\n",
        "\n",
        "    vector_add_single_thread<<<1, 1 >> > (d_x, d_y, d_sum, N);  // mode 1\n",
        "\n",
        "\n",
        "    // transfer back from host to device\n",
        "    cudaMemcpy(h_sum, d_sum, sizeof(float) * N, cudaMemcpyDeviceToHost); // dist, src\n",
        "\n",
        "\n",
        "    // Wait for GPU to finish before accessing on host\n",
        "    cudaDeviceSynchronize();\n",
        "\n",
        "\n",
        "    // Check for errors (all values should be 3.0f)\n",
        "    float maxError = 0.0f;\n",
        "    for (int i = 0; i < N; i++)\n",
        "        maxError = fmax(maxError, fabs(h_sum[i] - 3.0f));\n",
        "\n",
        "    cout << \"Max error: \" << maxError << endl;\n",
        "\n",
        "    // deallocating memory from device\n",
        "    cudaFree(d_x);\n",
        "    cudaFree(d_y);\n",
        "    cudaFree(d_sum);\n",
        "\n",
        "    // deallocating memory from host\n",
        "    free(h_x);\n",
        "    free(h_y);\n",
        "    free(h_sum);\n",
        "\n",
        "    return 0;\n",
        "}"
      ],
      "execution_count": 15,
      "outputs": [
        {
          "output_type": "stream",
          "name": "stdout",
          "text": [
            "Writing vector_add_single.cu\n"
          ]
        }
      ]
    },
    {
      "cell_type": "code",
      "source": [
        "!nvcc vector_add_single.cu -o vector_add.o"
      ],
      "metadata": {
        "id": "ROrTbwrDBkUG"
      },
      "execution_count": 16,
      "outputs": []
    },
    {
      "cell_type": "code",
      "source": [
        "!./vector_add.o"
      ],
      "metadata": {
        "colab": {
          "base_uri": "https://localhost:8080/"
        },
        "id": "ipNQn2yjuxBz",
        "outputId": "f2fa1dd4-68ef-4360-a3ab-1b2d8a94ecb2"
      },
      "execution_count": 17,
      "outputs": [
        {
          "output_type": "stream",
          "name": "stdout",
          "text": [
            "Max error: 0\n"
          ]
        }
      ]
    },
    {
      "cell_type": "code",
      "source": [
        "# single thread\n",
        "!nvprof ./vector_add.o"
      ],
      "metadata": {
        "colab": {
          "base_uri": "https://localhost:8080/"
        },
        "id": "CvRZH1ZDCrt4",
        "outputId": "1f97d74e-8abd-42b8-efd9-053139157d26"
      },
      "execution_count": 18,
      "outputs": [
        {
          "output_type": "stream",
          "name": "stdout",
          "text": [
            "==3759== NVPROF is profiling process 3759, command: ./vector_add.o\n",
            "Max error: 0\n",
            "==3759== Profiling application: ./vector_add.o\n",
            "==3759== Profiling result:\n",
            "            Type  Time(%)      Time     Calls       Avg       Min       Max  Name\n",
            " GPU activities:   92.08%  5.43869s         1  5.43869s  5.43869s  5.43869s  vector_add_single_thread(float*, float*, float*, int)\n",
            "                    5.04%  297.49ms         1  297.49ms  297.49ms  297.49ms  [CUDA memcpy DtoH]\n",
            "                    2.88%  170.38ms         2  85.190ms  84.104ms  86.276ms  [CUDA memcpy HtoD]\n",
            "      API calls:   96.87%  5.90819s         3  1.96940s  84.323ms  5.73736s  cudaMemcpy\n",
            "                    3.06%  186.48ms         3  62.160ms  410.18us  185.65ms  cudaMalloc\n",
            "                    0.07%  3.9977ms         3  1.3326ms  482.06us  2.1694ms  cudaFree\n",
            "                    0.01%  305.02us         1  305.02us  305.02us  305.02us  cudaLaunchKernel\n",
            "                    0.00%  139.26us       114  1.2210us     140ns  57.601us  cuDeviceGetAttribute\n",
            "                    0.00%  11.106us         1  11.106us  11.106us  11.106us  cuDeviceGetName\n",
            "                    0.00%  10.734us         1  10.734us  10.734us  10.734us  cudaDeviceSynchronize\n",
            "                    0.00%  5.8180us         1  5.8180us  5.8180us  5.8180us  cuDeviceGetPCIBusId\n",
            "                    0.00%  4.1090us         1  4.1090us  4.1090us  4.1090us  cuDeviceTotalMem\n",
            "                    0.00%  1.4150us         3     471ns     187ns     963ns  cuDeviceGetCount\n",
            "                    0.00%  1.1010us         2     550ns     199ns     902ns  cuDeviceGet\n",
            "                    0.00%     420ns         1     420ns     420ns     420ns  cuModuleGetLoadingMode\n",
            "                    0.00%     204ns         1     204ns     204ns     204ns  cuDeviceGetUuid\n"
          ]
        }
      ]
    },
    {
      "cell_type": "markdown",
      "source": [
        "### Single Block"
      ],
      "metadata": {
        "id": "hnJCuaZUMHzb"
      }
    },
    {
      "cell_type": "code",
      "source": [
        "%%writefile vector_add_block.cu\n",
        "// %%cu\n",
        "\n",
        "#include <iostream>\n",
        "#include <cuda.h>\n",
        "#include <assert.h>     /* assert */\n",
        "\n",
        "#define BLOCK_SIZE  256\n",
        "#define N  100000000\n",
        "\n",
        "using namespace std;\n",
        "\n",
        "__global__\n",
        "void vector_add_single_block(float *x, float *y, float *sum, int n) {\n",
        "  int index = threadIdx.x;\n",
        "  int stride = blockDim.x;\n",
        "  for (int i = index; i < n; i += stride) //TODO how many iterations are done by this loop?\n",
        "      sum[i] = x[i] + y[i];\n",
        "  // assert(gridDim.x==1); // assert gridDim.x==1 which means number of blocks is 1\n",
        "}\n",
        "\n",
        "int main() {\n",
        "    // declaring memory in host\n",
        "    float *h_x, *h_y, *h_sum;\n",
        "\n",
        "    // declaring memory in device\n",
        "    float *d_x, *d_y, *d_sum;\n",
        "\n",
        "    // allocating memory on host\n",
        "    h_x = (float *) malloc(sizeof(float) * N);\n",
        "    h_y = (float *) malloc(sizeof(float) * N);\n",
        "    h_sum = (float *) malloc(sizeof(float) * N);\n",
        "\n",
        "    // initializing h_x and h_y\n",
        "    for (int i = 0; i < N; i++) {\n",
        "        h_x[i] = 1.0f;\n",
        "        h_y[i] = 2.0f;\n",
        "    }\n",
        "\n",
        "    // allocating memory on device\n",
        "    cudaMalloc((void **) &d_x, sizeof(float) * N);\n",
        "    cudaMalloc((void **) &d_y, sizeof(float) * N);\n",
        "    cudaMalloc((void **) &d_sum, sizeof(float) * N);\n",
        "\n",
        "    // transfer from device to host\n",
        "    cudaMemcpy(d_x, h_x, sizeof(float) * N, cudaMemcpyHostToDevice); // dist, src\n",
        "    cudaMemcpy(d_y, h_y, sizeof(float) * N, cudaMemcpyHostToDevice); // dist, src\n",
        "\n",
        "    // run the kernel\n",
        "    vector_add_single_block<<<1, BLOCK_SIZE >> > (d_x, d_y, d_sum, N); // mode 2\n",
        "\n",
        "    // transfer back from host to device\n",
        "    cudaMemcpy(h_sum, d_sum, sizeof(float) * N, cudaMemcpyDeviceToHost); // dist, src\n",
        "\n",
        "\n",
        "    // Wait for GPU to finish before accessing on host\n",
        "    cudaDeviceSynchronize();\n",
        "\n",
        "\n",
        "    // Check for errors (all values should be 3.0f)\n",
        "    float maxError = 0.0f;\n",
        "    for (int i = 0; i < N; i++)\n",
        "        maxError = fmax(maxError, fabs(h_sum[i] - 3.0f));\n",
        "\n",
        "    cout << \"Max error: \" << maxError << endl;\n",
        "\n",
        "    // deallocating memory from device\n",
        "    cudaFree(d_x);\n",
        "    cudaFree(d_y);\n",
        "    cudaFree(d_sum);\n",
        "\n",
        "    // deallocating memory from host\n",
        "    free(h_x);\n",
        "    free(h_y);\n",
        "    free(h_sum);\n",
        "\n",
        "    return 0;\n",
        "}"
      ],
      "metadata": {
        "id": "2f5JpE0OMTG1",
        "outputId": "42f71646-71b6-4294-e6e6-c0cd5ecabd61",
        "colab": {
          "base_uri": "https://localhost:8080/"
        }
      },
      "execution_count": 19,
      "outputs": [
        {
          "output_type": "stream",
          "name": "stdout",
          "text": [
            "Writing vector_add_block.cu\n"
          ]
        }
      ]
    },
    {
      "cell_type": "code",
      "source": [
        "!nvcc vector_add_block.cu -o vector_add.o"
      ],
      "metadata": {
        "id": "t5swOS2KMgU4"
      },
      "execution_count": 20,
      "outputs": []
    },
    {
      "cell_type": "code",
      "source": [
        "!./vector_add.o"
      ],
      "metadata": {
        "colab": {
          "base_uri": "https://localhost:8080/"
        },
        "id": "Qrhj_1QPuzar",
        "outputId": "3c23a7b0-1b64-4333-923a-66274bf70367"
      },
      "execution_count": 21,
      "outputs": [
        {
          "output_type": "stream",
          "name": "stdout",
          "text": [
            "Max error: 0\n"
          ]
        }
      ]
    },
    {
      "cell_type": "code",
      "source": [
        "# single block\n",
        "!nvprof ./vector_add.o"
      ],
      "metadata": {
        "id": "p4nGuh7mG8RI",
        "colab": {
          "base_uri": "https://localhost:8080/"
        },
        "outputId": "d9fd1b0d-1142-4baf-dd68-0db3eb284086"
      },
      "execution_count": 22,
      "outputs": [
        {
          "output_type": "stream",
          "name": "stdout",
          "text": [
            "==3908== NVPROF is profiling process 3908, command: ./vector_add.o\n",
            "Max error: 0\n",
            "==3908== Profiling application: ./vector_add.o\n",
            "==3908== Profiling result:\n",
            "            Type  Time(%)      Time     Calls       Avg       Min       Max  Name\n",
            " GPU activities:   43.33%  284.07ms         1  284.07ms  284.07ms  284.07ms  [CUDA memcpy DtoH]\n",
            "                   30.61%  200.67ms         1  200.67ms  200.67ms  200.67ms  vector_add_single_block(float*, float*, float*, int)\n",
            "                   26.06%  170.84ms         2  85.422ms  83.887ms  86.958ms  [CUDA memcpy HtoD]\n",
            "      API calls:   78.32%  657.15ms         3  219.05ms  84.155ms  485.80ms  cudaMemcpy\n",
            "                   21.15%  177.46ms         3  59.153ms  455.75us  176.53ms  cudaMalloc\n",
            "                    0.47%  3.9841ms         3  1.3280ms  531.70us  2.0952ms  cudaFree\n",
            "                    0.03%  271.85us         1  271.85us  271.85us  271.85us  cudaLaunchKernel\n",
            "                    0.02%  139.54us       114  1.2230us     143ns  54.785us  cuDeviceGetAttribute\n",
            "                    0.00%  14.023us         1  14.023us  14.023us  14.023us  cuDeviceGetName\n",
            "                    0.00%  13.701us         1  13.701us  13.701us  13.701us  cudaDeviceSynchronize\n",
            "                    0.00%  8.2370us         1  8.2370us  8.2370us  8.2370us  cuDeviceTotalMem\n",
            "                    0.00%  8.1700us         1  8.1700us  8.1700us  8.1700us  cuDeviceGetPCIBusId\n",
            "                    0.00%  2.1140us         3     704ns     222ns  1.5090us  cuDeviceGetCount\n",
            "                    0.00%  1.1520us         2     576ns     356ns     796ns  cuDeviceGet\n",
            "                    0.00%     570ns         1     570ns     570ns     570ns  cuModuleGetLoadingMode\n",
            "                    0.00%     202ns         1     202ns     202ns     202ns  cuDeviceGetUuid\n"
          ]
        }
      ]
    },
    {
      "cell_type": "markdown",
      "source": [
        "### Multi-block"
      ],
      "metadata": {
        "id": "lEP5J_xaMh2U"
      }
    },
    {
      "cell_type": "code",
      "source": [
        "%%writefile vector_add.cu\n",
        "// %%cu\n",
        "\n",
        "#include <iostream>\n",
        "#include <cuda.h>\n",
        "#include <assert.h>     /* assert */\n",
        "\n",
        "#define BLOCK_SIZE  256\n",
        "#define N  100000000\n",
        "\n",
        "using namespace std;\n",
        "\n",
        "// __global__ indicates that function runs on GPU.\n",
        "__global__\n",
        "void vector_add(float *x, float *y, float *sum, int n) {\n",
        "    int index = blockIdx.x * blockDim.x + threadIdx.x;\n",
        "    int stride = blockDim.x * gridDim.x;\n",
        "    /*if (index > n){\n",
        "        printf(\"exceeding \");\n",
        "    }*/\n",
        "    for (int i = index; i < n; i += stride) { //TODO how many iterations are done by this loop?  assert (stride == n);\n",
        "        sum[i] = x[i] + y[i];\n",
        "    }\n",
        "}\n",
        "\n",
        "int main() {\n",
        "    // declaring memory in host\n",
        "    float *h_x, *h_y, *h_sum;\n",
        "\n",
        "    // declaring memory in device\n",
        "    float *d_x, *d_y, *d_sum;\n",
        "\n",
        "    // allocating memory on host\n",
        "    h_x = (float *) malloc(sizeof(float) * N);\n",
        "    h_y = (float *) malloc(sizeof(float) * N);\n",
        "    h_sum = (float *) malloc(sizeof(float) * N);\n",
        "\n",
        "    // initializing h_x and h_y\n",
        "    for (int i = 0; i < N; i++) {\n",
        "        h_x[i] = 1.0f;\n",
        "        h_y[i] = 2.0f;\n",
        "    }\n",
        "\n",
        "    // allocating memory on device\n",
        "    cudaMalloc((void **) &d_x, sizeof(float) * N);\n",
        "    cudaMalloc((void **) &d_y, sizeof(float) * N);\n",
        "    cudaMalloc((void **) &d_sum, sizeof(float) * N);\n",
        "\n",
        "    // transfer from device to host\n",
        "    cudaMemcpy(d_x, h_x, sizeof(float) * N, cudaMemcpyHostToDevice); // dist, src\n",
        "    cudaMemcpy(d_y, h_y, sizeof(float) * N, cudaMemcpyHostToDevice); // dist, src\n",
        "\n",
        "    // run the kernel\n",
        "    int BLOCKS_NUM = (N + BLOCK_SIZE - 1) / BLOCK_SIZE;\n",
        "    cout << \"parallel units: \" << BLOCK_SIZE*BLOCKS_NUM << endl;\n",
        "    vector_add<<<BLOCKS_NUM, BLOCK_SIZE >> > (d_x, d_y, d_sum, N); // mode 3\n",
        "\n",
        "\n",
        "    // transfer back from host to device\n",
        "    cudaMemcpy(h_sum, d_sum, sizeof(float) * N, cudaMemcpyDeviceToHost); // dist, src\n",
        "\n",
        "\n",
        "    // Wait for GPU to finish before accessing on host\n",
        "    cudaDeviceSynchronize();\n",
        "\n",
        "\n",
        "    // Check for errors (all values should be 3.0f)\n",
        "    float maxError = 0.0f;\n",
        "    for (int i = 0; i < N; i++)\n",
        "        maxError = fmax(maxError, fabs(h_sum[i] - 3.0f));\n",
        "\n",
        "    cout << \"Max error: \" << maxError << endl;\n",
        "\n",
        "    // deallocating memory from device\n",
        "    cudaFree(d_x);\n",
        "    cudaFree(d_y);\n",
        "    cudaFree(d_sum);\n",
        "\n",
        "    // deallocating memory from host\n",
        "    free(h_x);\n",
        "    free(h_y);\n",
        "    free(h_sum);\n",
        "\n",
        "    return 0;\n",
        "}"
      ],
      "metadata": {
        "id": "CbIxa9klMqOM",
        "outputId": "8f630006-3dd1-405f-b877-37e9ae059c6e",
        "colab": {
          "base_uri": "https://localhost:8080/"
        }
      },
      "execution_count": 23,
      "outputs": [
        {
          "output_type": "stream",
          "name": "stdout",
          "text": [
            "Writing vector_add.cu\n"
          ]
        }
      ]
    },
    {
      "cell_type": "code",
      "source": [
        "!nvcc vector_add.cu -o vector_add.o"
      ],
      "metadata": {
        "id": "cMf-Kq88Mo3l"
      },
      "execution_count": 24,
      "outputs": []
    },
    {
      "cell_type": "code",
      "source": [
        "# multi-block\n",
        "!nvprof ./vector_add.o"
      ],
      "metadata": {
        "colab": {
          "base_uri": "https://localhost:8080/"
        },
        "id": "oDhsA4F5jvoN",
        "outputId": "4175c89f-5b02-45e8-9c30-14dfa69be8a0"
      },
      "execution_count": 25,
      "outputs": [
        {
          "output_type": "stream",
          "name": "stdout",
          "text": [
            "==3968== NVPROF is profiling process 3968, command: ./vector_add.o\n",
            "parallel units: 100000000\n",
            "Max error: 0\n",
            "==3968== Profiling application: ./vector_add.o\n",
            "==3968== Profiling result:\n",
            "            Type  Time(%)      Time     Calls       Avg       Min       Max  Name\n",
            " GPU activities:   62.41%  289.84ms         1  289.84ms  289.84ms  289.84ms  [CUDA memcpy DtoH]\n",
            "                   36.49%  169.49ms         2  84.745ms  84.293ms  85.198ms  [CUDA memcpy HtoD]\n",
            "                    1.10%  5.1195ms         1  5.1195ms  5.1195ms  5.1195ms  vector_add(float*, float*, float*, int)\n",
            "      API calls:   66.87%  466.10ms         3  155.37ms  84.513ms  296.17ms  cudaMemcpy\n",
            "                   26.71%  186.18ms         3  62.060ms  415.28us  185.32ms  cudaMalloc\n",
            "                    5.83%  40.642ms         1  40.642ms  40.642ms  40.642ms  cudaLaunchKernel\n",
            "                    0.56%  3.9365ms         3  1.3122ms  487.94us  2.0839ms  cudaFree\n",
            "                    0.02%  141.47us       114  1.2400us     148ns  56.634us  cuDeviceGetAttribute\n",
            "                    0.00%  11.112us         1  11.112us  11.112us  11.112us  cuDeviceGetName\n",
            "                    0.00%  9.4020us         1  9.4020us  9.4020us  9.4020us  cudaDeviceSynchronize\n",
            "                    0.00%  4.9940us         1  4.9940us  4.9940us  4.9940us  cuDeviceTotalMem\n",
            "                    0.00%  4.9660us         1  4.9660us  4.9660us  4.9660us  cuDeviceGetPCIBusId\n",
            "                    0.00%  1.5330us         3     511ns     168ns  1.0470us  cuDeviceGetCount\n",
            "                    0.00%  1.1050us         2     552ns     170ns     935ns  cuDeviceGet\n",
            "                    0.00%     666ns         1     666ns     666ns     666ns  cuModuleGetLoadingMode\n",
            "                    0.00%     249ns         1     249ns     249ns     249ns  cuDeviceGetUuid\n"
          ]
        }
      ]
    }
  ]
}